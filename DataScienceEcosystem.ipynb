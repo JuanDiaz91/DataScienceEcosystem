{
 "cells": [
  {
   "cell_type": "markdown",
   "id": "a0877d37-d1bf-4ec3-a74e-26f50c78681b",
   "metadata": {},
   "source": [
    "# Data Science Tools and Ecosystem"
   ]
  },
  {
   "cell_type": "markdown",
   "id": "e8ff17e8-ed8c-4a43-84a3-e71cfb5eb2b0",
   "metadata": {},
   "source": [
    "In this notebook, Data Science Tools and Ecosystm are summarized"
   ]
  },
  {
   "cell_type": "markdown",
   "id": "04bde2a1-8372-4059-9e5d-a2eff8034766",
   "metadata": {},
   "source": [
    "Some of the popular languages that Data Scientists use are:\n",
    "1. Python\n",
    "2. R\n",
    "3. SQL"
   ]
  },
  {
   "cell_type": "markdown",
   "id": "48d7b00e-b9c5-41c3-adce-c1a7f094eefd",
   "metadata": {},
   "source": [
    "Some of the commonly used libraries used by Data Scientists include:\n",
    "1. Pandas\n",
    "2. Numpy\n",
    "3. Matplotlib\n",
    "4. Scikit-learn"
   ]
  },
  {
   "cell_type": "markdown",
   "id": "ec438c06-c8bc-4255-8e7a-d0bc349e9309",
   "metadata": {},
   "source": [
    "| Data Science Tools |\n",
    "|--------------------|\n",
    "| Jupyter Notebook   |\n",
    "| RStudio            |\n",
    "| Apache Zeppelin    |"
   ]
  },
  {
   "cell_type": "markdown",
   "id": "3fd8511f-ecb1-4509-a1d1-7dee6e1af99c",
   "metadata": {},
   "source": [
    "### Below are a few examples of evaluating arithmetic expressions in Python."
   ]
  },
  {
   "cell_type": "code",
   "execution_count": 1,
   "id": "b1454f7d-e399-40c4-8322-6cc3331c9de2",
   "metadata": {},
   "outputs": [
    {
     "data": {
      "text/plain": [
       "17"
      ]
     },
     "execution_count": 1,
     "metadata": {},
     "output_type": "execute_result"
    }
   ],
   "source": [
    "# This is a simple arithmetic expression to multiply then add integers\n",
    "(3*4)+5"
   ]
  },
  {
   "cell_type": "code",
   "execution_count": 3,
   "id": "abd08620-7a63-4ca9-b062-5547efcb26c4",
   "metadata": {},
   "outputs": [
    {
     "data": {
      "text/plain": [
       "3.3333333333333335"
      ]
     },
     "execution_count": 3,
     "metadata": {},
     "output_type": "execute_result"
    }
   ],
   "source": [
    "# This will convert 200 minutes to hours by dividing by 60 \n",
    "200/60"
   ]
  },
  {
   "cell_type": "markdown",
   "id": "5953fed0-7c5d-477a-a1a7-19b823c53102",
   "metadata": {},
   "source": [
    "**Objetives:**\n",
    "- List popular languages for Data Science\n",
    "- List commonly used libraries in Data Science\n",
    "- Create simple arithmetic expression in Python"
   ]
  },
  {
   "cell_type": "markdown",
   "id": "7ebd11fe-b062-4044-be27-d443687502e7",
   "metadata": {},
   "source": [
    "## Author\n",
    "Juan Daniel Díaz Mateos"
   ]
  }
 ],
 "metadata": {
  "kernelspec": {
   "display_name": "Python 3 (ipykernel)",
   "language": "python",
   "name": "python3"
  },
  "language_info": {
   "codemirror_mode": {
    "name": "ipython",
    "version": 3
   },
   "file_extension": ".py",
   "mimetype": "text/x-python",
   "name": "python",
   "nbconvert_exporter": "python",
   "pygments_lexer": "ipython3",
   "version": "3.12.4"
  }
 },
 "nbformat": 4,
 "nbformat_minor": 5
}
